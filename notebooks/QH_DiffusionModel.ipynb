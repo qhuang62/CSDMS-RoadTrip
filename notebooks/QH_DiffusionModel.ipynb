{
 "cells": [
  {
   "cell_type": "markdown",
   "id": "77627d3c-b444-45b6-9314-ca50cb184310",
   "metadata": {},
   "source": [
    "### Build a 1D diffusion model"
   ]
  },
  {
   "cell_type": "markdown",
   "id": "5c802850-dcba-475b-aa90-b13302405fc4",
   "metadata": {},
   "source": [
    "Wed May 7 CSDMS roadtrip class 1\n",
    "\n",
    "we tried to code a 1-dimensional model of diffusion."
   ]
  },
  {
   "cell_type": "markdown",
   "id": "cc5bf8ac-bebb-4b7f-a860-52f21af2d2ab",
   "metadata": {},
   "source": [
    "#### Formula"
   ]
  },
  {
   "cell_type": "markdown",
   "id": "225a072d-dadd-4e34-b6a0-6e01ae9b746a",
   "metadata": {},
   "source": [
    "$$ \\frac{\\partial C}{\\partial t} = D\\frac{\\partial^2 C}{\\partial x^2} $$\n",
    "\n",
    "discretized:\n",
    "\n",
    "$$ C^{t+1}_x = C^t_x + {D \\Delta t \\over \\Delta x^2} (C^t_{x+1} - 2C^t_x + C^t_{x-1}) $$"
   ]
  },
  {
   "cell_type": "markdown",
   "id": "daa74336-0300-4557-b1c2-578e16e193f0",
   "metadata": {},
   "source": [
    "the model assumes:\n",
    "\n",
    "- constant diffusivity;\n",
    "- regular grid;\n",
    "- has a step funciton for an initial condition;\n",
    "- fixed boundary conditions.\n",
    " \n",
    "C(x,t),rate of change of concentration, over time is proportional to the curvature (second derivative) of concentration over space.\n",
    "\n",
    "D is the diffusion coefficient - a positive constant telling you how fast things spread out.\n",
    "\n",
    "FTCS scheme by Slingerland and Kump (2011). "
   ]
  },
  {
   "cell_type": "code",
   "execution_count": null,
   "id": "0fd27c94-f105-4adb-ab38-9d88b0a927f8",
   "metadata": {},
   "outputs": [],
   "source": [
    "#import libraries\n",
    "import numpy as np #for arrays\n",
    "import matplotlib.pyplot as plt #for plotting"
   ]
  },
  {
   "cell_type": "markdown",
   "id": "3632aca0-525f-46dd-a80a-730ff908bd25",
   "metadata": {},
   "source": [
    "#### Set up parameteres\n",
    "\n",
    "2 fixed: diffusivity and the size of model domain"
   ]
  },
  {
   "cell_type": "code",
   "execution_count": null,
   "id": "91f3dc88-08d7-4c0f-a292-090eca248ae6",
   "metadata": {},
   "outputs": [],
   "source": [
    "D = 100 #diffusivity\n",
    "Lx = 300 #domain size"
   ]
  },
  {
   "cell_type": "code",
   "execution_count": null,
   "id": "1d9f682a-f18e-4692-a67b-9243df1153be",
   "metadata": {},
   "outputs": [],
   "source": [
    "#set model grid\n",
    "dx = 0.5 #step size\n",
    "x = np.arange(start=0, stop=Lx, step=dx)\n",
    "nx = len(x)"
   ]
  },
  {
   "cell_type": "code",
   "execution_count": null,
   "id": "eedb6a05-e5b5-4017-941a-3749eb1b39dc",
   "metadata": {},
   "outputs": [],
   "source": [
    "#check value\n",
    "#extract 1 value\n",
    "x[1] #-1 will be the last value of array"
   ]
  },
  {
   "cell_type": "code",
   "execution_count": null,
   "id": "9e09232c-5a76-4b1a-9e50-1047bf106bff",
   "metadata": {},
   "outputs": [],
   "source": [
    "#extarct range\n",
    "x[0:5] #not including the last index so if want first 5 elements we need 5] not 4]"
   ]
  },
  {
   "cell_type": "code",
   "execution_count": null,
   "id": "d7c48a11-0b0b-492b-bcbc-8a18b4131246",
   "metadata": {},
   "outputs": [],
   "source": [
    "#shortcut\n",
    "x[-5:] #last 5 "
   ]
  },
  {
   "cell_type": "markdown",
   "id": "3b04ac45-1140-43fd-9785-573918e84fea",
   "metadata": {},
   "source": [
    "#### Set up initial conditions"
   ]
  },
  {
   "cell_type": "markdown",
   "id": "7816b8ca-1c28-41a8-a343-1da15c7f7c45",
   "metadata": {},
   "source": [
    "C is a step function with a high value of the left, a low value on the right, and a step at the center of domain"
   ]
  },
  {
   "cell_type": "code",
   "execution_count": null,
   "id": "d797be4a-5cbb-4d7c-a44f-fe0596d44383",
   "metadata": {},
   "outputs": [],
   "source": [
    "C = np.zeros_like(x)\n",
    "\n",
    "#define 2 boundry conditions\n",
    "C_left = 500 \n",
    "C_right = 0\n",
    "\n",
    "#\n",
    "C[x <= Lx / 2] = C_left\n",
    "C[x > Lx / 2] = C_right"
   ]
  },
  {
   "cell_type": "markdown",
   "id": "9a992776-46c2-49d3-93d9-11af1a48d094",
   "metadata": {},
   "source": [
    "##### plot initial profile"
   ]
  },
  {
   "cell_type": "code",
   "execution_count": null,
   "id": "15fcd093-d55e-4ede-ae3c-86bc4bc4c1b5",
   "metadata": {},
   "outputs": [],
   "source": [
    "plt.figure()\n",
    "plt.plot(x, C, \"r\")\n",
    "plt.xlabel(\"x\")\n",
    "plt.ylabel(\"y\")\n",
    "plt.title(\"Initial Profile\")"
   ]
  },
  {
   "cell_type": "markdown",
   "id": "ed733e7c-c920-44e3-ade4-432f960c386d",
   "metadata": {},
   "source": [
    "set the number of time steps in the model. calculate a stable time step using a stability criterion"
   ]
  },
  {
   "cell_type": "code",
   "execution_count": null,
   "id": "06d1776f-8cc1-4863-a767-13945a7ae6e6",
   "metadata": {},
   "outputs": [],
   "source": [
    "nt = 5000 #time step\n",
    "dt = 0.5 * dx ** 2 / D ##dx^2"
   ]
  },
  {
   "cell_type": "markdown",
   "id": "554a4b4d-f086-4a14-a229-9219c795da25",
   "metadata": {},
   "source": [
    "loop over time step of the model, solving the diffusion eqn using the FTCS scheme\n",
    "Note the use of array operations on the variable C.\n",
    "\n",
    "The boundary conditions remain fixed in each time step"
   ]
  },
  {
   "cell_type": "code",
   "execution_count": null,
   "id": "8fc11955-0a03-4a39-b133-3f03ef1d957c",
   "metadata": {},
   "outputs": [],
   "source": [
    "for t in range(0, nt): #range from 0 to 4999, nt-1\n",
    "    C[1:-1] += D * dt / dx ** 2 * (C[:-2] - 2 * C[1:-1] + C[2:]) \n",
    "#C[1:-1] 2nd value of variable C to last value \n",
    "#+= updating the C[a,b] (leftside) by adding the rest (rightside of +=)\n",
    "#see formula"
   ]
  },
  {
   "cell_type": "markdown",
   "id": "ef6afd42-6f64-416b-8f88-59e7311e7d39",
   "metadata": {},
   "source": [
    "$$ \\frac{\\partial C}{\\partial t} = D\\frac{\\partial^2 C}{\\partial x^2} $$\n"
   ]
  },
  {
   "cell_type": "markdown",
   "id": "1df51c25-f519-4b7f-94f6-319a33604aab",
   "metadata": {
    "jp-MarkdownHeadingCollapsed": true
   },
   "source": [
    "###### use of []"
   ]
  },
  {
   "cell_type": "code",
   "execution_count": null,
   "id": "7f6e3689-bac4-4a75-9c19-5302681a5cc4",
   "metadata": {},
   "outputs": [],
   "source": [
    "z = list(range(5))\n",
    "z"
   ]
  },
  {
   "cell_type": "code",
   "execution_count": null,
   "id": "1b4cb5d7-d4a1-4a61-b97b-e4462f64188b",
   "metadata": {},
   "outputs": [],
   "source": [
    "z[1:-1]"
   ]
  },
  {
   "cell_type": "code",
   "execution_count": null,
   "id": "a80bd1aa-f1c5-40b2-aa23-5fbc34ebf9c3",
   "metadata": {},
   "outputs": [],
   "source": [
    "z[:-2]"
   ]
  },
  {
   "cell_type": "code",
   "execution_count": null,
   "id": "842a8d26-aa7f-476b-82cf-425c2efbd67f",
   "metadata": {},
   "outputs": [],
   "source": [
    "z[2:]"
   ]
  },
  {
   "cell_type": "markdown",
   "id": "dbeeb7cd-1d79-4d45-ac7e-62cd5cadbf63",
   "metadata": {},
   "source": [
    "#### Plot result"
   ]
  },
  {
   "cell_type": "code",
   "execution_count": null,
   "id": "48f00a02-7fba-463a-b932-b0a312f8f124",
   "metadata": {},
   "outputs": [],
   "source": [
    "plt.plot(x, C, \"b\")\n",
    "plt.xlabel(\"x\")\n",
    "plt.ylabel(\"y\")\n",
    "plt.title(\"Final Profile\")"
   ]
  }
 ],
 "metadata": {
  "kernelspec": {
   "display_name": "Ivy",
   "language": "python",
   "name": "ivy"
  },
  "language_info": {
   "codemirror_mode": {
    "name": "ipython",
    "version": 3
   },
   "file_extension": ".py",
   "mimetype": "text/x-python",
   "name": "python",
   "nbconvert_exporter": "python",
   "pygments_lexer": "ipython3",
   "version": "3.13.3"
  }
 },
 "nbformat": 4,
 "nbformat_minor": 5
}
